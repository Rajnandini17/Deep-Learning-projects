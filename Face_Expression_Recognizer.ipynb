{
  "nbformat": 4,
  "nbformat_minor": 0,
  "metadata": {
    "colab": {
      "provenance": [],
      "gpuType": "T4",
      "authorship_tag": "ABX9TyOv9WbR1db6jVhVb7J+yC8T",
      "include_colab_link": true
    },
    "kernelspec": {
      "name": "python3",
      "display_name": "Python 3"
    },
    "language_info": {
      "name": "python"
    },
    "accelerator": "GPU"
  },
  "cells": [
    {
      "cell_type": "markdown",
      "metadata": {
        "id": "view-in-github",
        "colab_type": "text"
      },
      "source": [
        "<a href=\"https://colab.research.google.com/github/Rajnandini17/Deep-Learning-projects/blob/main/Face_Expression_Recognizer.ipynb\" target=\"_parent\"><img src=\"https://colab.research.google.com/assets/colab-badge.svg\" alt=\"Open In Colab\"/></a>"
      ]
    },
    {
      "cell_type": "markdown",
      "source": [
        "## IMPORTING THE DATASET"
      ],
      "metadata": {
        "id": "OiK24d_wS545"
      }
    },
    {
      "cell_type": "code",
      "execution_count": 2,
      "metadata": {
        "colab": {
          "base_uri": "https://localhost:8080/"
        },
        "id": "StCEqkL2Witd",
        "outputId": "a5cd7deb-fc31-4131-a2cb-ea9b22da8b9a"
      },
      "outputs": [
        {
          "output_type": "stream",
          "name": "stdout",
          "text": [
            "--2023-09-28 04:10:26--  https://www.dropbox.com/s/si11cws2pyho1bp/archive.zip\n",
            "Resolving www.dropbox.com (www.dropbox.com)... 162.125.1.18, 2620:100:6016:18::a27d:112\n",
            "Connecting to www.dropbox.com (www.dropbox.com)|162.125.1.18|:443... connected.\n",
            "HTTP request sent, awaiting response... 302 Found\n",
            "Location: /s/raw/si11cws2pyho1bp/archive.zip [following]\n",
            "--2023-09-28 04:10:26--  https://www.dropbox.com/s/raw/si11cws2pyho1bp/archive.zip\n",
            "Reusing existing connection to www.dropbox.com:443.\n",
            "HTTP request sent, awaiting response... 302 Found\n",
            "Location: https://uc6414daea053c399858e6a9d02c.dl.dropboxusercontent.com/cd/0/inline/CElccACP6ugNizws5nKsRQVuFEMkoo4aSX69hpWUuDA-xdTmp6Y0K-i6SckGMnsIdH0vjqxdeM81MFGJFuTSzc9db1hPFGICIIw4rHoLvQHegpaVXqA5OZST0XpYacP7uCGa3QQcSAx-fhoMI4iiF7l7/file# [following]\n",
            "--2023-09-28 04:10:27--  https://uc6414daea053c399858e6a9d02c.dl.dropboxusercontent.com/cd/0/inline/CElccACP6ugNizws5nKsRQVuFEMkoo4aSX69hpWUuDA-xdTmp6Y0K-i6SckGMnsIdH0vjqxdeM81MFGJFuTSzc9db1hPFGICIIw4rHoLvQHegpaVXqA5OZST0XpYacP7uCGa3QQcSAx-fhoMI4iiF7l7/file\n",
            "Resolving uc6414daea053c399858e6a9d02c.dl.dropboxusercontent.com (uc6414daea053c399858e6a9d02c.dl.dropboxusercontent.com)... 162.125.1.15, 2620:100:6016:15::a27d:10f\n",
            "Connecting to uc6414daea053c399858e6a9d02c.dl.dropboxusercontent.com (uc6414daea053c399858e6a9d02c.dl.dropboxusercontent.com)|162.125.1.15|:443... connected.\n",
            "HTTP request sent, awaiting response... 302 Found\n",
            "Location: /cd/0/inline2/CElf8kMzwqTJ0ytvUYPgt3JGhfzUa3cgvPP0XxQFWyO2OW443Kn7TzrGvRAj1aKlhr-ebjAR9JMeWbOD6Uv2yWuJtrZ6kpRQ3p9ReoRMiXDbdQMffxQHehH6Pvod8T3p4-FARcQuyx2dKzDU8SNYOnpr7fnDZAD7_kegSF03GC2yYxsQnB_t9gH6D2aR3NKt-gYTe1TVt_5Qg17Gf1miYSh4NVo-my8ln3Z888CnAZ7z542tos2P7ngBu17mMVpVS4L9LaJwz6IrjccCGyflvbAUNVAkLS6k8JsI7wFwTh-bWvtZoIH64apTRLZq2r-Wq1F2Pgl2XoWjvpe1Qv2jhPJF_RSaInra5rSwRqP0pm_lE3AHDCUKTzJ9AaM6ZGuxdss/file [following]\n",
            "--2023-09-28 04:10:27--  https://uc6414daea053c399858e6a9d02c.dl.dropboxusercontent.com/cd/0/inline2/CElf8kMzwqTJ0ytvUYPgt3JGhfzUa3cgvPP0XxQFWyO2OW443Kn7TzrGvRAj1aKlhr-ebjAR9JMeWbOD6Uv2yWuJtrZ6kpRQ3p9ReoRMiXDbdQMffxQHehH6Pvod8T3p4-FARcQuyx2dKzDU8SNYOnpr7fnDZAD7_kegSF03GC2yYxsQnB_t9gH6D2aR3NKt-gYTe1TVt_5Qg17Gf1miYSh4NVo-my8ln3Z888CnAZ7z542tos2P7ngBu17mMVpVS4L9LaJwz6IrjccCGyflvbAUNVAkLS6k8JsI7wFwTh-bWvtZoIH64apTRLZq2r-Wq1F2Pgl2XoWjvpe1Qv2jhPJF_RSaInra5rSwRqP0pm_lE3AHDCUKTzJ9AaM6ZGuxdss/file\n",
            "Reusing existing connection to uc6414daea053c399858e6a9d02c.dl.dropboxusercontent.com:443.\n",
            "HTTP request sent, awaiting response... 200 OK\n",
            "Length: 63252113 (60M) [application/zip]\n",
            "Saving to: ‘archive.zip’\n",
            "\n",
            "archive.zip         100%[===================>]  60.32M  56.3MB/s    in 1.1s    \n",
            "\n",
            "2023-09-28 04:10:28 (56.3 MB/s) - ‘archive.zip’ saved [63252113/63252113]\n",
            "\n"
          ]
        }
      ],
      "source": [
        "!wget https://www.dropbox.com/s/si11cws2pyho1bp/archive.zip"
      ]
    },
    {
      "cell_type": "code",
      "source": [
        "!unzip -q \"/content/archive.zip\""
      ],
      "metadata": {
        "id": "tKdXom_oTPtv"
      },
      "execution_count": 3,
      "outputs": []
    },
    {
      "cell_type": "markdown",
      "source": [
        "##IMPORTING LIBRARIES & PROCESSING IMAGES"
      ],
      "metadata": {
        "id": "_hfrZ_YPTp6L"
      }
    },
    {
      "cell_type": "code",
      "source": [
        "import tensorflow as tf\n",
        "import numpy as np\n",
        "import matplotlib.pyplot as plt\n",
        "from pathlib import Path\n",
        "\n",
        "tf.random.set_seed(4)"
      ],
      "metadata": {
        "id": "yAVZbtUpTewz"
      },
      "execution_count": 4,
      "outputs": []
    },
    {
      "cell_type": "code",
      "source": [
        "train_path = Path(\"/content/train\")\n",
        "test_path = Path(\"/content/test\")"
      ],
      "metadata": {
        "id": "momANNHqUCD_"
      },
      "execution_count": 5,
      "outputs": []
    },
    {
      "cell_type": "code",
      "source": [
        "train_image_paths = list(train_path.glob(\"*/*\"))\n",
        "train_image_paths = list(map(lambda x : str(x), train_image_paths))\n",
        "train_image_paths[:10]"
      ],
      "metadata": {
        "colab": {
          "base_uri": "https://localhost:8080/"
        },
        "id": "22zO5quWURUy",
        "outputId": "5a5cf03b-12e3-43bd-81fe-acafa80c8985"
      },
      "execution_count": 6,
      "outputs": [
        {
          "output_type": "execute_result",
          "data": {
            "text/plain": [
              "['/content/train/angry/Training_86750647.jpg',\n",
              " '/content/train/angry/Training_37648612.jpg',\n",
              " '/content/train/angry/Training_93477899.jpg',\n",
              " '/content/train/angry/Training_91019189.jpg',\n",
              " '/content/train/angry/Training_1184435.jpg',\n",
              " '/content/train/angry/Training_16813100.jpg',\n",
              " '/content/train/angry/Training_83505715.jpg',\n",
              " '/content/train/angry/Training_93430422.jpg',\n",
              " '/content/train/angry/Training_31734020.jpg',\n",
              " '/content/train/angry/Training_67213645.jpg']"
            ]
          },
          "metadata": {},
          "execution_count": 6
        }
      ]
    },
    {
      "cell_type": "code",
      "source": [
        "def get_label(image_path):\n",
        "  return image_path.split(\"/\")[-2]\n",
        "\n",
        "train_image_labels = list(map(lambda x: get_label(x), train_image_paths))\n",
        "train_image_labels[:10]"
      ],
      "metadata": {
        "colab": {
          "base_uri": "https://localhost:8080/"
        },
        "id": "pSqV1WxeUtfo",
        "outputId": "0cf31557-2cfe-4183-e69c-94ad466d3125"
      },
      "execution_count": 7,
      "outputs": [
        {
          "output_type": "execute_result",
          "data": {
            "text/plain": [
              "['angry',\n",
              " 'angry',\n",
              " 'angry',\n",
              " 'angry',\n",
              " 'angry',\n",
              " 'angry',\n",
              " 'angry',\n",
              " 'angry',\n",
              " 'angry',\n",
              " 'angry']"
            ]
          },
          "metadata": {},
          "execution_count": 7
        }
      ]
    },
    {
      "cell_type": "code",
      "source": [
        "from sklearn.preprocessing import LabelEncoder\n",
        "\n",
        "Le = LabelEncoder()\n",
        "train_image_labels = Le.fit_transform(train_image_labels)\n",
        "train_image_labels[:10]"
      ],
      "metadata": {
        "colab": {
          "base_uri": "https://localhost:8080/"
        },
        "id": "40K4Mxu_VddU",
        "outputId": "a48c6614-12c1-4659-d4e8-8649803a88ee"
      },
      "execution_count": 8,
      "outputs": [
        {
          "output_type": "execute_result",
          "data": {
            "text/plain": [
              "array([0, 0, 0, 0, 0, 0, 0, 0, 0, 0])"
            ]
          },
          "metadata": {},
          "execution_count": 8
        }
      ]
    },
    {
      "cell_type": "code",
      "source": [
        "train_image_labels = tf.keras.utils.to_categorical(train_image_labels)\n",
        "train_image_labels[:10]"
      ],
      "metadata": {
        "colab": {
          "base_uri": "https://localhost:8080/"
        },
        "id": "oBxtlUFgV1uP",
        "outputId": "52651494-d9fd-4c1f-fab0-144913e78e52"
      },
      "execution_count": 9,
      "outputs": [
        {
          "output_type": "execute_result",
          "data": {
            "text/plain": [
              "array([[1., 0., 0., 0., 0., 0., 0.],\n",
              "       [1., 0., 0., 0., 0., 0., 0.],\n",
              "       [1., 0., 0., 0., 0., 0., 0.],\n",
              "       [1., 0., 0., 0., 0., 0., 0.],\n",
              "       [1., 0., 0., 0., 0., 0., 0.],\n",
              "       [1., 0., 0., 0., 0., 0., 0.],\n",
              "       [1., 0., 0., 0., 0., 0., 0.],\n",
              "       [1., 0., 0., 0., 0., 0., 0.],\n",
              "       [1., 0., 0., 0., 0., 0., 0.],\n",
              "       [1., 0., 0., 0., 0., 0., 0.]], dtype=float32)"
            ]
          },
          "metadata": {},
          "execution_count": 9
        }
      ]
    },
    {
      "cell_type": "code",
      "source": [
        "from sklearn.model_selection import train_test_split\n",
        "train_paths, val_paths, train_labels, val_labels = train_test_split(train_image_paths, train_image_labels, test_size=0.25)"
      ],
      "metadata": {
        "id": "FxpfrSIRWLxw"
      },
      "execution_count": 10,
      "outputs": []
    },
    {
      "cell_type": "code",
      "source": [
        "#computing class weights to take care of class imbalances\n",
        "classTotals = train_labels.sum(axis = 0)\n",
        "classWeight = classTotals.max() / classTotals\n",
        "class_weight = {e : weight for e , weight in enumerate(classWeight)}\n",
        "print(class_weight)"
      ],
      "metadata": {
        "colab": {
          "base_uri": "https://localhost:8080/"
        },
        "id": "c0auTicSouRz",
        "outputId": "6ae77cb7-be59-4381-9975-db9b735e174b"
      },
      "execution_count": 11,
      "outputs": [
        {
          "output_type": "stream",
          "name": "stdout",
          "text": [
            "{0: 1.8081144, 1: 15.75942, 2: 1.7867236, 3: 1.0, 4: 1.4706519, 5: 1.4986218, 6: 2.2902274}\n"
          ]
        }
      ]
    },
    {
      "cell_type": "markdown",
      "source": [
        "## LOADING & AUGMENTING IMAGE DATA"
      ],
      "metadata": {
        "id": "CaKn9sFGxrLr"
      }
    },
    {
      "cell_type": "code",
      "source": [
        "# Function used for Transformation\n",
        "\n",
        "def load(image , label):\n",
        "    image = tf.io.read_file(image)\n",
        "    image = tf.io.decode_jpeg(image , channels = 3)\n",
        "    return image , label"
      ],
      "metadata": {
        "id": "jaBxiU2zpZBb"
      },
      "execution_count": 12,
      "outputs": []
    },
    {
      "cell_type": "code",
      "source": [
        "# Define IMAGE SIZE and BATCH SIZE\n",
        "IMG_SIZE = 96\n",
        "BATCH_SIZE = 32\n",
        "\n",
        "# Basic Transformation\n",
        "resize = tf.keras.Sequential([\n",
        "    tf.keras.layers.experimental.preprocessing.Resizing(IMG_SIZE, IMG_SIZE)\n",
        "])\n",
        "\n",
        "# Data Augmentation\n",
        "data_augmentation = tf.keras.Sequential([\n",
        "    tf.keras.layers.experimental.preprocessing.RandomFlip(\"horizontal\"),\n",
        "    tf.keras.layers.experimental.preprocessing.RandomRotation(0.1),\n",
        "    tf.keras.layers.experimental.preprocessing.RandomZoom(height_factor = (-0.1, -0.05))\n",
        "])"
      ],
      "metadata": {
        "id": "v3WASa1Bx2z9"
      },
      "execution_count": 13,
      "outputs": []
    },
    {
      "cell_type": "code",
      "source": [
        "# Function used to Create a Tensorflow Data Object\n",
        "AUTOTUNE = tf.data.experimental.AUTOTUNE\n",
        "def get_dataset(paths , labels , train = True):\n",
        "    image_paths = tf.convert_to_tensor(paths)\n",
        "    labels = tf.convert_to_tensor(labels)\n",
        "\n",
        "    image_dataset = tf.data.Dataset.from_tensor_slices(image_paths)\n",
        "    label_dataset = tf.data.Dataset.from_tensor_slices(labels)\n",
        "\n",
        "    dataset = tf.data.Dataset.zip((image_dataset , label_dataset))\n",
        "\n",
        "    dataset = dataset.map(lambda image , label : load(image , label))\n",
        "    dataset = dataset.map(lambda image, label: (resize(image), label) , num_parallel_calls=AUTOTUNE)\n",
        "    dataset = dataset.shuffle(1000)\n",
        "    dataset = dataset.batch(BATCH_SIZE)\n",
        "\n",
        "    if train:\n",
        "        dataset = dataset.map(lambda image, label: (data_augmentation(image), label) , num_parallel_calls=AUTOTUNE)\n",
        "\n",
        "    dataset = dataset.repeat()\n",
        "    return dataset"
      ],
      "metadata": {
        "id": "buzantmZx6oi"
      },
      "execution_count": 14,
      "outputs": []
    },
    {
      "cell_type": "code",
      "source": [
        "# Creating Train Dataset object and Verifying it\n",
        "%time train_dataset = get_dataset(train_paths , train_labels)\n",
        "\n",
        "image , label = next(iter(train_dataset))\n",
        "print(image.shape)\n",
        "print(label.shape)"
      ],
      "metadata": {
        "colab": {
          "base_uri": "https://localhost:8080/"
        },
        "id": "O5rP6TPNyCQ7",
        "outputId": "ec2a2871-484c-41ef-d76c-d2ecd6ce8890"
      },
      "execution_count": 15,
      "outputs": [
        {
          "output_type": "stream",
          "name": "stdout",
          "text": [
            "CPU times: user 802 ms, sys: 8.14 ms, total: 811 ms\n",
            "Wall time: 875 ms\n",
            "(32, 96, 96, 3)\n",
            "(32, 7)\n"
          ]
        }
      ]
    },
    {
      "cell_type": "code",
      "source": [
        "# View a sample Training Image\n",
        "print(Le.inverse_transform(np.argmax(label , axis = 1))[0])\n",
        "plt.imshow((image[0].numpy()/255).reshape(96 , 96 , 3))"
      ],
      "metadata": {
        "colab": {
          "base_uri": "https://localhost:8080/",
          "height": 468
        },
        "id": "HdAyc3BPyQtz",
        "outputId": "a5ecb603-94cb-4dae-b963-c6496d0a7057"
      },
      "execution_count": 16,
      "outputs": [
        {
          "output_type": "stream",
          "name": "stdout",
          "text": [
            "angry\n"
          ]
        },
        {
          "output_type": "execute_result",
          "data": {
            "text/plain": [
              "<matplotlib.image.AxesImage at 0x793f3e3b3d90>"
            ]
          },
          "metadata": {},
          "execution_count": 16
        },
        {
          "output_type": "display_data",
          "data": {
            "text/plain": [
              "<Figure size 640x480 with 1 Axes>"
            ],
            "image/png": "[encoded data removed]"
          },
          "metadata": {}
        }
      ]
    },
    {
      "cell_type": "code",
      "source": [
        "%time val_dataset = get_dataset(val_paths , val_labels , train = False)\n",
        "\n",
        "image , label = next(iter(val_dataset))\n",
        "print(image.shape)\n",
        "print(label.shape)"
      ],
      "metadata": {
        "colab": {
          "base_uri": "https://localhost:8080/"
        },
        "id": "GyZeTgLxylZM",
        "outputId": "b6f9d73a-de7e-48ad-9eaa-47de9e7194d5"
      },
      "execution_count": 17,
      "outputs": [
        {
          "output_type": "stream",
          "name": "stdout",
          "text": [
            "CPU times: user 41.3 ms, sys: 30 µs, total: 41.4 ms\n",
            "Wall time: 46.3 ms\n",
            "(32, 96, 96, 3)\n",
            "(32, 7)\n"
          ]
        }
      ]
    },
    {
      "cell_type": "code",
      "source": [
        "# View a sample Validation Image\n",
        "print(Le.inverse_transform(np.argmax(label , axis = 1))[0])\n",
        "plt.imshow((image[0].numpy()/255).reshape(96 , 96 , 3))"
      ],
      "metadata": {
        "colab": {
          "base_uri": "https://localhost:8080/",
          "height": 468
        },
        "id": "cBeaUmsryppB",
        "outputId": "ee7c8201-228a-42ea-b684-44352a346594"
      },
      "execution_count": 18,
      "outputs": [
        {
          "output_type": "stream",
          "name": "stdout",
          "text": [
            "angry\n"
          ]
        },
        {
          "output_type": "execute_result",
          "data": {
            "text/plain": [
              "<matplotlib.image.AxesImage at 0x793f158beb90>"
            ]
          },
          "metadata": {},
          "execution_count": 18
        },
        {
          "output_type": "display_data",
          "data": {
            "text/plain": [
              "<Figure size 640x480 with 1 Axes>"
            ],
            "image/png": "[encoded data removed]"
          },
          "metadata": {}
        }
      ]
    },
    {
      "cell_type": "markdown",
      "source": [
        "##BUILDING EFFECIENTNET MODEL"
      ],
      "metadata": {
        "id": "fwsGgjZbzEGe"
      }
    },
    {
      "cell_type": "code",
      "source": [
        "# Building EfficientNet model\n",
        "from tensorflow.keras.applications import EfficientNetB2\n",
        "\n",
        "backbone = EfficientNetB2(\n",
        "    input_shape=(96, 96, 3),\n",
        "    include_top=False\n",
        ")\n",
        "\n",
        "model = tf.keras.Sequential([\n",
        "    backbone,\n",
        "    tf.keras.layers.GlobalAveragePooling2D(),\n",
        "    tf.keras.layers.Dropout(0.3),\n",
        "    tf.keras.layers.Dense(128, activation='relu'),\n",
        "    tf.keras.layers.Dense(7, activation='softmax')\n",
        "])\n",
        "\n",
        "model.summary()"
      ],
      "metadata": {
        "colab": {
          "base_uri": "https://localhost:8080/"
        },
        "id": "FdgIo0IizIAJ",
        "outputId": "3dda2aed-478f-434d-fceb-e40274a86407"
      },
      "execution_count": 19,
      "outputs": [
        {
          "output_type": "stream",
          "name": "stdout",
          "text": [
            "Model: \"sequential_2\"\n",
            "_________________________________________________________________\n",
            " Layer (type)                Output Shape              Param #   \n",
            "=================================================================\n",
            " efficientnetb2 (Functional  (None, 3, 3, 1408)        7768569   \n",
            " )                                                               \n",
            "                                                                 \n",
            " global_average_pooling2d (  (None, 1408)              0         \n",
            " GlobalAveragePooling2D)                                         \n",
            "                                                                 \n",
            " dropout (Dropout)           (None, 1408)              0         \n",
            "                                                                 \n",
            " dense (Dense)               (None, 128)               180352    \n",
            "                                                                 \n",
            " dense_1 (Dense)             (None, 7)                 903       \n",
            "                                                                 \n",
            "=================================================================\n",
            "Total params: 7949824 (30.33 MB)\n",
            "Trainable params: 7882249 (30.07 MB)\n",
            "Non-trainable params: 67575 (263.97 KB)\n",
            "_________________________________________________________________\n"
          ]
        }
      ]
    },
    {
      "cell_type": "code",
      "source": [
        "# Compiling your model by providing the Optimizer , Loss and Metrics\n",
        "model.compile(\n",
        "    optimizer=tf.keras.optimizers.Adam(learning_rate=0.001, beta_1=0.9, beta_2=0.999, epsilon=1e-07),\n",
        "    loss = 'categorical_crossentropy',\n",
        "    metrics=['accuracy' , tf.keras.metrics.Precision(name='precision'),tf.keras.metrics.Recall(name='recall')]\n",
        ")"
      ],
      "metadata": {
        "id": "O6xZlkaZzL-C"
      },
      "execution_count": 20,
      "outputs": []
    },
    {
      "cell_type": "code",
      "source": [
        "# Train the model\n",
        "history = model.fit(\n",
        "    train_dataset,\n",
        "    steps_per_epoch=len(train_paths)//BATCH_SIZE,\n",
        "    epochs=8,\n",
        "    validation_data=val_dataset,\n",
        "    validation_steps = len(val_paths)//BATCH_SIZE,\n",
        "    class_weight=class_weight\n",
        ")"
      ],
      "metadata": {
        "colab": {
          "base_uri": "https://localhost:8080/"
        },
        "id": "HmVueLOZzQPZ",
        "outputId": "5fbc5152-06ce-4937-cee7-7d700e85db4a"
      },
      "execution_count": 21,
      "outputs": [
        {
          "output_type": "stream",
          "name": "stdout",
          "text": [
            "Epoch 1/8\n",
            "672/672 [==============================] - 160s 129ms/step - loss: 2.8475 - accuracy: 0.3954 - precision: 0.6453 - recall: 0.1816 - val_loss: 1.3877 - val_accuracy: 0.4675 - val_precision: 0.7592 - val_recall: 0.2380\n",
            "Epoch 2/8\n",
            "672/672 [==============================] - 85s 127ms/step - loss: 2.3593 - accuracy: 0.4978 - precision: 0.6906 - recall: 0.2896 - val_loss: 1.2042 - val_accuracy: 0.5409 - val_precision: 0.6749 - val_recall: 0.3986\n",
            "Epoch 3/8\n",
            "672/672 [==============================] - 82s 122ms/step - loss: 2.2154 - accuracy: 0.5273 - precision: 0.7011 - recall: 0.3326 - val_loss: 1.2722 - val_accuracy: 0.5318 - val_precision: 0.7196 - val_recall: 0.3065\n",
            "Epoch 4/8\n",
            "672/672 [==============================] - 80s 119ms/step - loss: 2.1072 - accuracy: 0.5461 - precision: 0.7079 - recall: 0.3591 - val_loss: 1.1621 - val_accuracy: 0.5562 - val_precision: 0.7013 - val_recall: 0.3944\n",
            "Epoch 5/8\n",
            "672/672 [==============================] - 81s 120ms/step - loss: 2.0717 - accuracy: 0.5559 - precision: 0.7201 - recall: 0.3778 - val_loss: 1.1265 - val_accuracy: 0.5686 - val_precision: 0.7675 - val_recall: 0.3496\n",
            "Epoch 6/8\n",
            "672/672 [==============================] - 80s 119ms/step - loss: 1.9652 - accuracy: 0.5729 - precision: 0.7217 - recall: 0.3978 - val_loss: 1.1995 - val_accuracy: 0.5476 - val_precision: 0.6713 - val_recall: 0.4023\n",
            "Epoch 7/8\n",
            "672/672 [==============================] - 81s 120ms/step - loss: 1.9166 - accuracy: 0.5823 - precision: 0.7323 - recall: 0.4175 - val_loss: 1.2201 - val_accuracy: 0.5477 - val_precision: 0.6768 - val_recall: 0.4254\n",
            "Epoch 8/8\n",
            "672/672 [==============================] - 84s 125ms/step - loss: 1.9148 - accuracy: 0.5848 - precision: 0.7294 - recall: 0.4225 - val_loss: 1.0992 - val_accuracy: 0.5891 - val_precision: 0.7228 - val_recall: 0.4376\n"
          ]
        }
      ]
    },
    {
      "cell_type": "code",
      "source": [
        "model.layers[0].trainable = False"
      ],
      "metadata": {
        "id": "fng8pf2oz3XX"
      },
      "execution_count": 22,
      "outputs": []
    },
    {
      "cell_type": "code",
      "source": [
        "# Defining our callbacks\n",
        "checkpoint = tf.keras.callbacks.ModelCheckpoint(\"best_weights.h5\",verbose=1,save_best_only=True,save_weights_only = True)\n",
        "early_stop = tf.keras.callbacks.EarlyStopping(patience=4)"
      ],
      "metadata": {
        "id": "5_7Wk1gLz4Mx"
      },
      "execution_count": 23,
      "outputs": []
    },
    {
      "cell_type": "code",
      "source": [
        "model.summary()"
      ],
      "metadata": {
        "colab": {
          "base_uri": "https://localhost:8080/"
        },
        "id": "mDl9NHy7z7p0",
        "outputId": "eead92f6-7942-402f-bde4-cc55e3db60ae"
      },
      "execution_count": 24,
      "outputs": [
        {
          "output_type": "stream",
          "name": "stdout",
          "text": [
            "Model: \"sequential_2\"\n",
            "_________________________________________________________________\n",
            " Layer (type)                Output Shape              Param #   \n",
            "=================================================================\n",
            " efficientnetb2 (Functional  (None, 3, 3, 1408)        7768569   \n",
            " )                                                               \n",
            "                                                                 \n",
            " global_average_pooling2d (  (None, 1408)              0         \n",
            " GlobalAveragePooling2D)                                         \n",
            "                                                                 \n",
            " dropout (Dropout)           (None, 1408)              0         \n",
            "                                                                 \n",
            " dense (Dense)               (None, 128)               180352    \n",
            "                                                                 \n",
            " dense_1 (Dense)             (None, 7)                 903       \n",
            "                                                                 \n",
            "=================================================================\n",
            "Total params: 7949824 (30.33 MB)\n",
            "Trainable params: 181255 (708.03 KB)\n",
            "Non-trainable params: 7768569 (29.63 MB)\n",
            "_________________________________________________________________\n"
          ]
        }
      ]
    },
    {
      "cell_type": "code",
      "source": [
        "# Train the model\n",
        "history = model.fit(\n",
        "    train_dataset,\n",
        "    steps_per_epoch=len(train_paths)//BATCH_SIZE,\n",
        "    epochs=6,\n",
        "    callbacks=[checkpoint , early_stop],\n",
        "    validation_data=val_dataset,\n",
        "    validation_steps = len(val_paths)//BATCH_SIZE,\n",
        "    class_weight=class_weight\n",
        ")"
      ],
      "metadata": {
        "colab": {
          "base_uri": "https://localhost:8080/"
        },
        "id": "G6hzJb7R0Efg",
        "outputId": "35190684-f5a7-49aa-baaf-0256f2601933"
      },
      "execution_count": 25,
      "outputs": [
        {
          "output_type": "stream",
          "name": "stdout",
          "text": [
            "Epoch 1/6\n",
            "672/672 [==============================] - ETA: 0s - loss: 1.8266 - accuracy: 0.5995 - precision: 0.7311 - recall: 0.4405\n",
            "Epoch 1: val_loss improved from inf to 1.18090, saving model to best_weights.h5\n",
            "672/672 [==============================] - 86s 128ms/step - loss: 1.8266 - accuracy: 0.5995 - precision: 0.7311 - recall: 0.4405 - val_loss: 1.1809 - val_accuracy: 0.5830 - val_precision: 0.6796 - val_recall: 0.4530\n",
            "Epoch 2/6\n",
            "672/672 [==============================] - ETA: 0s - loss: 1.7674 - accuracy: 0.6077 - precision: 0.7385 - recall: 0.4641\n",
            "Epoch 2: val_loss improved from 1.18090 to 1.11661, saving model to best_weights.h5\n",
            "672/672 [==============================] - 82s 123ms/step - loss: 1.7674 - accuracy: 0.6077 - precision: 0.7385 - recall: 0.4641 - val_loss: 1.1166 - val_accuracy: 0.5788 - val_precision: 0.7165 - val_recall: 0.4280\n",
            "Epoch 3/6\n",
            "672/672 [==============================] - ETA: 0s - loss: 1.7584 - accuracy: 0.6064 - precision: 0.7381 - recall: 0.4599\n",
            "Epoch 3: val_loss did not improve from 1.11661\n",
            "672/672 [==============================] - 84s 125ms/step - loss: 1.7584 - accuracy: 0.6064 - precision: 0.7381 - recall: 0.4599 - val_loss: 1.1330 - val_accuracy: 0.5748 - val_precision: 0.6903 - val_recall: 0.4590\n",
            "Epoch 4/6\n",
            "672/672 [==============================] - ETA: 0s - loss: 1.7129 - accuracy: 0.6157 - precision: 0.7445 - recall: 0.4765\n",
            "Epoch 4: val_loss improved from 1.11661 to 1.07702, saving model to best_weights.h5\n",
            "672/672 [==============================] - 81s 120ms/step - loss: 1.7129 - accuracy: 0.6157 - precision: 0.7445 - recall: 0.4765 - val_loss: 1.0770 - val_accuracy: 0.5956 - val_precision: 0.7012 - val_recall: 0.4887\n",
            "Epoch 5/6\n",
            "672/672 [==============================] - ETA: 0s - loss: 1.6933 - accuracy: 0.6203 - precision: 0.7414 - recall: 0.4828\n",
            "Epoch 5: val_loss improved from 1.07702 to 1.06381, saving model to best_weights.h5\n",
            "672/672 [==============================] - 79s 118ms/step - loss: 1.6933 - accuracy: 0.6203 - precision: 0.7414 - recall: 0.4828 - val_loss: 1.0638 - val_accuracy: 0.6166 - val_precision: 0.7155 - val_recall: 0.5014\n",
            "Epoch 6/6\n",
            "672/672 [==============================] - ETA: 0s - loss: 1.6253 - accuracy: 0.6355 - precision: 0.7510 - recall: 0.5091\n",
            "Epoch 6: val_loss did not improve from 1.06381\n",
            "672/672 [==============================] - 84s 125ms/step - loss: 1.6253 - accuracy: 0.6355 - precision: 0.7510 - recall: 0.5091 - val_loss: 1.0879 - val_accuracy: 0.5999 - val_precision: 0.6970 - val_recall: 0.4879\n"
          ]
        }
      ]
    },
    {
      "cell_type": "markdown",
      "source": [
        "##TESTING PHASE"
      ],
      "metadata": {
        "id": "Gqy0IClv19Sl"
      }
    },
    {
      "cell_type": "code",
      "source": [
        "from tensorflow.keras.applications import EfficientNetB2\n",
        "\n",
        "backbone = EfficientNetB2(\n",
        "    input_shape=(96, 96, 3),\n",
        "    include_top=False\n",
        ")\n",
        "\n",
        "model = tf.keras.Sequential([\n",
        "    backbone,\n",
        "    tf.keras.layers.GlobalAveragePooling2D(),\n",
        "    tf.keras.layers.Dropout(0.3),\n",
        "    tf.keras.layers.Dense(128, activation='relu'),\n",
        "    tf.keras.layers.Dense(7, activation='softmax')\n",
        "])\n",
        "\n",
        "model.compile(\n",
        "    optimizer=tf.keras.optimizers.Adam(learning_rate=0.001, beta_1=0.9, beta_2=0.999, epsilon=1e-07),\n",
        "    loss = 'categorical_crossentropy',\n",
        "    metrics=['accuracy' , tf.keras.metrics.Precision(name='precision'),tf.keras.metrics.Recall(name='recall')]\n",
        ")"
      ],
      "metadata": {
        "id": "H_B-J2hb0IZ3"
      },
      "execution_count": 26,
      "outputs": []
    },
    {
      "cell_type": "code",
      "source": [
        "model.load_weights(\"best_weights.h5\")"
      ],
      "metadata": {
        "id": "oQ_LfIE82DQ9"
      },
      "execution_count": 27,
      "outputs": []
    },
    {
      "cell_type": "code",
      "source": [
        "# Create a Dataset Object for 'Testing' Set just the way we did for Training and Validation\n",
        "test_image_paths = list(test_path.glob(\"*/*\"))\n",
        "test_image_paths = list(map(lambda x : str(x) , test_image_paths))\n",
        "test_labels = list(map(lambda x : get_label(x) , test_image_paths))\n",
        "\n",
        "test_labels = Le.transform(test_labels)\n",
        "test_labels = tf.keras.utils.to_categorical(test_labels)\n",
        "\n",
        "test_image_paths = tf.convert_to_tensor(test_image_paths)\n",
        "test_labels = tf.convert_to_tensor(test_labels)\n",
        "\n",
        "def decode_image(image , label):\n",
        "    image = tf.io.read_file(image)\n",
        "    image = tf.io.decode_jpeg(image , channels = 3)\n",
        "    image = tf.image.resize(image , [96 , 96] , method=\"bilinear\")\n",
        "    return image , label\n",
        "\n",
        "test_dataset = (\n",
        "     tf.data.Dataset\n",
        "    .from_tensor_slices((test_image_paths, test_labels))\n",
        "    .map(decode_image)\n",
        "    .batch(BATCH_SIZE)\n",
        ")"
      ],
      "metadata": {
        "id": "tMaH_WbL2Gkc"
      },
      "execution_count": 28,
      "outputs": []
    },
    {
      "cell_type": "code",
      "source": [
        "# Verify Test Dataset Object\n",
        "image , label = next(iter(test_dataset))\n",
        "print(image.shape)\n",
        "print(label.shape)"
      ],
      "metadata": {
        "colab": {
          "base_uri": "https://localhost:8080/"
        },
        "id": "jWkZ0uRk2Kav",
        "outputId": "6b40cd08-c417-4805-bc50-83d8b79d7e25"
      },
      "execution_count": 29,
      "outputs": [
        {
          "output_type": "stream",
          "name": "stdout",
          "text": [
            "(32, 96, 96, 3)\n",
            "(32, 7)\n"
          ]
        }
      ]
    },
    {
      "cell_type": "code",
      "source": [
        "# View a sample Validation Image\n",
        "print(Le.inverse_transform(np.argmax(label , axis = 1))[0])\n",
        "plt.imshow((image[0].numpy()/255).reshape(96 , 96 , 3))"
      ],
      "metadata": {
        "colab": {
          "base_uri": "https://localhost:8080/",
          "height": 468
        },
        "id": "YoBOLRS-2NZ7",
        "outputId": "05eabbfd-b974-4fe5-f7b3-7cf0f52f0820"
      },
      "execution_count": 30,
      "outputs": [
        {
          "output_type": "stream",
          "name": "stdout",
          "text": [
            "angry\n"
          ]
        },
        {
          "output_type": "execute_result",
          "data": {
            "text/plain": [
              "<matplotlib.image.AxesImage at 0x793f150c30a0>"
            ]
          },
          "metadata": {},
          "execution_count": 30
        },
        {
          "output_type": "display_data",
          "data": {
            "text/plain": [
              "<Figure size 640x480 with 1 Axes>"
            ],
            "image/png": "[encoded data removed]"
          },
          "metadata": {}
        }
      ]
    },
    {
      "cell_type": "code",
      "source": [
        "# Evaluating the loaded model\n",
        "loss, acc, prec, rec = model.evaluate(test_dataset)\n",
        "\n",
        "print(\" Testing Acc : \" , acc)\n",
        "print(\" Testing Precision \" , prec)\n",
        "print(\" Testing Recall \" , rec)"
      ],
      "metadata": {
        "colab": {
          "base_uri": "https://localhost:8080/"
        },
        "id": "JbjfeDF62QZN",
        "outputId": "cb9268d8-6323-4ba9-b228-d3f06e66b468"
      },
      "execution_count": 31,
      "outputs": [
        {
          "output_type": "stream",
          "name": "stdout",
          "text": [
            "225/225 [==============================] - 11s 28ms/step - loss: 1.0608 - accuracy: 0.6131 - precision: 0.7144 - recall: 0.5011\n",
            " Testing Acc :  0.6131234169006348\n",
            " Testing Precision  0.7143992185592651\n",
            " Testing Recall  0.5011144876480103\n"
          ]
        }
      ]
    },
    {
      "cell_type": "markdown",
      "source": [
        "##SAVING OBJECTS"
      ],
      "metadata": {
        "id": "swd0AIGfFH8U"
      }
    },
    {
      "cell_type": "code",
      "source": [
        "# Save Model\n",
        "model.save(\"FacialExpressionModel.h5\")"
      ],
      "metadata": {
        "colab": {
          "base_uri": "https://localhost:8080/"
        },
        "id": "qg32_M2IFSW5",
        "outputId": "ffa9d195-929c-4874-c147-ed318c214d3c"
      },
      "execution_count": 32,
      "outputs": [
        {
          "output_type": "stream",
          "name": "stderr",
          "text": [
            "/usr/local/lib/python3.10/dist-packages/keras/src/engine/training.py:3000: UserWarning: You are saving your model as an HDF5 file via `model.save()`. This file format is considered legacy. We recommend using instead the native Keras format, e.g. `model.save('my_model.keras')`.\n",
            "  saving_api.save_model(\n"
          ]
        }
      ]
    },
    {
      "cell_type": "code",
      "source": [
        "# Save Label Encoder\n",
        "import pickle\n",
        "\n",
        "def save_object(obj , name):\n",
        "    pickle_obj = open(f\"{name}.pck\",\"wb\")\n",
        "    pickle.dump(obj, pickle_obj)\n",
        "    pickle_obj.close()"
      ],
      "metadata": {
        "id": "MAqSYY_PFTqG"
      },
      "execution_count": 33,
      "outputs": []
    },
    {
      "cell_type": "code",
      "source": [
        "save_object(Le, \"LabelEncoder\")"
      ],
      "metadata": {
        "id": "Qj0bBrgwFX2P"
      },
      "execution_count": 34,
      "outputs": []
    }
  ]
}