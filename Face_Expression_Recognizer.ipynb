{
  "nbformat": 4,
  "nbformat_minor": 0,
  "metadata": {
    "colab": {
      "provenance": [],
      "gpuType": "T4",
      "authorship_tag": "ABX9TyN0OCHzusjyE8iqkRrcUgrf",
      "include_colab_link": true
    },
    "kernelspec": {
      "name": "python3",
      "display_name": "Python 3"
    },
    "language_info": {
      "name": "python"
    },
    "accelerator": "GPU"
  },
  "cells": [
    {
      "cell_type": "markdown",
      "metadata": {
        "id": "view-in-github",
        "colab_type": "text"
      },
      "source": [
        "<a href=\"https://colab.research.google.com/github/Rajnandini17/Deep-Learning-projects/blob/main/Face_Expression_Recognizer.ipynb\" target=\"_parent\"><img src=\"https://colab.research.google.com/assets/colab-badge.svg\" alt=\"Open In Colab\"/></a>"
      ]
    },
    {
      "cell_type": "markdown",
      "source": [
        "## IMPORTING THE DATASET"
      ],
      "metadata": {
        "id": "OiK24d_wS545"
      }
    },
    {
      "cell_type": "code",
      "execution_count": 1,
      "metadata": {
        "colab": {
          "base_uri": "https://localhost:8080/"
        },
        "id": "StCEqkL2Witd",
        "outputId": "c04a6011-c227-42cb-906f-e9ad137a71f6"
      },
      "outputs": [
        {
          "output_type": "stream",
          "name": "stdout",
          "text": [
            "--2023-09-27 17:11:48--  https://www.dropbox.com/s/si11cws2pyho1bp/archive.zip\n",
            "Resolving www.dropbox.com (www.dropbox.com)... 162.125.5.18, 2620:100:601d:18::a27d:512\n",
            "Connecting to www.dropbox.com (www.dropbox.com)|162.125.5.18|:443... connected.\n",
            "HTTP request sent, awaiting response... 302 Found\n",
            "Location: /s/raw/si11cws2pyho1bp/archive.zip [following]\n",
            "--2023-09-27 17:11:49--  https://www.dropbox.com/s/raw/si11cws2pyho1bp/archive.zip\n",
            "Reusing existing connection to www.dropbox.com:443.\n",
            "HTTP request sent, awaiting response... 302 Found\n",
            "Location: https://uc024ef1e57bc27c8e803a80a165.dl.dropboxusercontent.com/cd/0/inline/CEhmXh9X0m3NSsROshddKGDwOwwpKjp9Bt7lVwcWbc2zXxPkpvpKGYU_IQeKJhC3VL6HZeDtXfnrDfxJ3bHmdiAjqdKg-tViSn_LC4tqR1m435Ja1eLbCxIVvyEiwcEsYqSWyDHNrUgxcRubm0H-cQ6m/file# [following]\n",
            "--2023-09-27 17:11:52--  https://uc024ef1e57bc27c8e803a80a165.dl.dropboxusercontent.com/cd/0/inline/CEhmXh9X0m3NSsROshddKGDwOwwpKjp9Bt7lVwcWbc2zXxPkpvpKGYU_IQeKJhC3VL6HZeDtXfnrDfxJ3bHmdiAjqdKg-tViSn_LC4tqR1m435Ja1eLbCxIVvyEiwcEsYqSWyDHNrUgxcRubm0H-cQ6m/file\n",
            "Resolving uc024ef1e57bc27c8e803a80a165.dl.dropboxusercontent.com (uc024ef1e57bc27c8e803a80a165.dl.dropboxusercontent.com)... 162.125.5.15, 2620:100:601d:15::a27d:50f\n",
            "Connecting to uc024ef1e57bc27c8e803a80a165.dl.dropboxusercontent.com (uc024ef1e57bc27c8e803a80a165.dl.dropboxusercontent.com)|162.125.5.15|:443... connected.\n",
            "HTTP request sent, awaiting response... 302 Found\n",
            "Location: /cd/0/inline2/CEjcjSmYnjWTf8AUblOeD8CG_mJN3gHhmKExNqW_Ag-Da3VgTgBGoQhpP_dD0CLWz-JNY56jw0X8-Ii_oRrthgDvaF8LUeMpWXRO0TUT6MvwD35-JtBZ5CvsLbHd47R64XP7gAO9riV8UmltxB96bChQQ4ztd0nGXndres64s14thXsqfG8v-LZunaayO4LSr7wWN8lefuWNPamHmp0s8FKAUixLgWYGychfJk6GuSiZdQnjsKLHht10FA-KERISYZNY5ygHDnLB6eozB-cpIAufwUVysLEbKrQCIUncCu2cUBG7YfOhxhKJbQmj4pADI8YshNO_G6vTxwmEIwB5B1bwSl-Za1h-nbt-31AIipZ1POHu0-vasxlne1VDkmxm8ls/file [following]\n",
            "--2023-09-27 17:11:52--  https://uc024ef1e57bc27c8e803a80a165.dl.dropboxusercontent.com/cd/0/inline2/CEjcjSmYnjWTf8AUblOeD8CG_mJN3gHhmKExNqW_Ag-Da3VgTgBGoQhpP_dD0CLWz-JNY56jw0X8-Ii_oRrthgDvaF8LUeMpWXRO0TUT6MvwD35-JtBZ5CvsLbHd47R64XP7gAO9riV8UmltxB96bChQQ4ztd0nGXndres64s14thXsqfG8v-LZunaayO4LSr7wWN8lefuWNPamHmp0s8FKAUixLgWYGychfJk6GuSiZdQnjsKLHht10FA-KERISYZNY5ygHDnLB6eozB-cpIAufwUVysLEbKrQCIUncCu2cUBG7YfOhxhKJbQmj4pADI8YshNO_G6vTxwmEIwB5B1bwSl-Za1h-nbt-31AIipZ1POHu0-vasxlne1VDkmxm8ls/file\n",
            "Reusing existing connection to uc024ef1e57bc27c8e803a80a165.dl.dropboxusercontent.com:443.\n",
            "HTTP request sent, awaiting response... 200 OK\n",
            "Length: 63252113 (60M) [application/zip]\n",
            "Saving to: ‘archive.zip’\n",
            "\n",
            "archive.zip         100%[===================>]  60.32M  80.7MB/s    in 0.7s    \n",
            "\n",
            "2023-09-27 17:11:54 (80.7 MB/s) - ‘archive.zip’ saved [63252113/63252113]\n",
            "\n"
          ]
        }
      ],
      "source": [
        "!wget https://www.dropbox.com/s/si11cws2pyho1bp/archive.zip"
      ]
    },
    {
      "cell_type": "code",
      "source": [
        "!unzip -q \"/content/archive.zip\""
      ],
      "metadata": {
        "id": "tKdXom_oTPtv"
      },
      "execution_count": 2,
      "outputs": []
    },
    {
      "cell_type": "markdown",
      "source": [
        "##IMPORTING LIBRARIES & PROCESSING IMAGES"
      ],
      "metadata": {
        "id": "_hfrZ_YPTp6L"
      }
    },
    {
      "cell_type": "code",
      "source": [
        "import tensorflow as tf\n",
        "import numpy as np\n",
        "import matplotlib.pyplot as plt\n",
        "from pathlib import Path\n",
        "\n",
        "tf.random.set_seed(4)"
      ],
      "metadata": {
        "id": "yAVZbtUpTewz"
      },
      "execution_count": 3,
      "outputs": []
    },
    {
      "cell_type": "code",
      "source": [
        "train_path = Path(\"/content/train\")\n",
        "test_path = Path(\"/content/test\")"
      ],
      "metadata": {
        "id": "momANNHqUCD_"
      },
      "execution_count": 4,
      "outputs": []
    },
    {
      "cell_type": "code",
      "source": [
        "train_image_paths = list(train_path.glob(\"*/*\"))\n",
        "train_image_paths = list(map(lambda x : str(x), train_image_paths))\n",
        "train_image_paths[:10]"
      ],
      "metadata": {
        "colab": {
          "base_uri": "https://localhost:8080/"
        },
        "id": "22zO5quWURUy",
        "outputId": "8c62eab6-482e-498b-ff0d-db8a444fd123"
      },
      "execution_count": 5,
      "outputs": [
        {
          "output_type": "execute_result",
          "data": {
            "text/plain": [
              "['/content/train/angry/Training_86750647.jpg',\n",
              " '/content/train/angry/Training_37648612.jpg',\n",
              " '/content/train/angry/Training_93477899.jpg',\n",
              " '/content/train/angry/Training_91019189.jpg',\n",
              " '/content/train/angry/Training_1184435.jpg',\n",
              " '/content/train/angry/Training_16813100.jpg',\n",
              " '/content/train/angry/Training_83505715.jpg',\n",
              " '/content/train/angry/Training_93430422.jpg',\n",
              " '/content/train/angry/Training_31734020.jpg',\n",
              " '/content/train/angry/Training_67213645.jpg']"
            ]
          },
          "metadata": {},
          "execution_count": 5
        }
      ]
    },
    {
      "cell_type": "code",
      "source": [
        "def get_label(image_path):\n",
        "  return image_path.split(\"/\")[-2]\n",
        "\n",
        "train_image_labels = list(map(lambda x: get_label(x), train_image_paths))\n",
        "train_image_labels[:10]"
      ],
      "metadata": {
        "colab": {
          "base_uri": "https://localhost:8080/"
        },
        "id": "pSqV1WxeUtfo",
        "outputId": "c973c88b-9eb5-443f-d910-7336d991164f"
      },
      "execution_count": 6,
      "outputs": [
        {
          "output_type": "execute_result",
          "data": {
            "text/plain": [
              "['angry',\n",
              " 'angry',\n",
              " 'angry',\n",
              " 'angry',\n",
              " 'angry',\n",
              " 'angry',\n",
              " 'angry',\n",
              " 'angry',\n",
              " 'angry',\n",
              " 'angry']"
            ]
          },
          "metadata": {},
          "execution_count": 6
        }
      ]
    },
    {
      "cell_type": "code",
      "source": [
        "from sklearn.preprocessing import LabelEncoder\n",
        "\n",
        "Le = LabelEncoder()\n",
        "train_image_labels = Le.fit_transform(train_image_labels)\n",
        "train_image_labels[:10]"
      ],
      "metadata": {
        "colab": {
          "base_uri": "https://localhost:8080/"
        },
        "id": "40K4Mxu_VddU",
        "outputId": "670aa32d-f8c3-4dd8-c9ea-ca92571dd2a4"
      },
      "execution_count": 7,
      "outputs": [
        {
          "output_type": "execute_result",
          "data": {
            "text/plain": [
              "array([0, 0, 0, 0, 0, 0, 0, 0, 0, 0])"
            ]
          },
          "metadata": {},
          "execution_count": 7
        }
      ]
    },
    {
      "cell_type": "code",
      "source": [
        "train_image_labels = tf.keras.utils.to_categorical(train_image_labels)\n",
        "train_image_labels[:10]"
      ],
      "metadata": {
        "colab": {
          "base_uri": "https://localhost:8080/"
        },
        "id": "oBxtlUFgV1uP",
        "outputId": "6e0b1246-ecbc-4b1f-df52-50dca9c96b42"
      },
      "execution_count": 8,
      "outputs": [
        {
          "output_type": "execute_result",
          "data": {
            "text/plain": [
              "array([[1., 0., 0., 0., 0., 0., 0.],\n",
              "       [1., 0., 0., 0., 0., 0., 0.],\n",
              "       [1., 0., 0., 0., 0., 0., 0.],\n",
              "       [1., 0., 0., 0., 0., 0., 0.],\n",
              "       [1., 0., 0., 0., 0., 0., 0.],\n",
              "       [1., 0., 0., 0., 0., 0., 0.],\n",
              "       [1., 0., 0., 0., 0., 0., 0.],\n",
              "       [1., 0., 0., 0., 0., 0., 0.],\n",
              "       [1., 0., 0., 0., 0., 0., 0.],\n",
              "       [1., 0., 0., 0., 0., 0., 0.]], dtype=float32)"
            ]
          },
          "metadata": {},
          "execution_count": 8
        }
      ]
    },
    {
      "cell_type": "code",
      "source": [
        "from sklearn.model_selection import train_test_split\n",
        "train_paths, val_paths, train_labels, val_labels = train_test_split(train_image_paths, train_image_labels, test_size=0.25)"
      ],
      "metadata": {
        "id": "FxpfrSIRWLxw"
      },
      "execution_count": 9,
      "outputs": []
    },
    {
      "cell_type": "code",
      "source": [
        "#computing class weights to take care of class imbalances\n",
        "classTotals = train_labels.sum(axis = 0)\n",
        "classWeight = classTotals.max() / classTotals\n",
        "class_weight = {e : weight for e , weight in enumerate(classWeight)}\n",
        "print(class_weight)"
      ],
      "metadata": {
        "colab": {
          "base_uri": "https://localhost:8080/"
        },
        "id": "c0auTicSouRz",
        "outputId": "a156105d-f63c-4a07-e8b4-74c825165526"
      },
      "execution_count": 10,
      "outputs": [
        {
          "output_type": "stream",
          "name": "stdout",
          "text": [
            "{0: 1.8228571, 1: 16.091988, 2: 1.7499193, 3: 1.0, 4: 1.4476775, 5: 1.5068074, 6: 2.3056972}\n"
          ]
        }
      ]
    },
    {
      "cell_type": "markdown",
      "source": [
        "## LOADING & AUGMENTING IMAGE DATA"
      ],
      "metadata": {
        "id": "CaKn9sFGxrLr"
      }
    },
    {
      "cell_type": "code",
      "source": [
        "# Function used for Transformation\n",
        "\n",
        "def load(image , label):\n",
        "    image = tf.io.read_file(image)\n",
        "    image = tf.io.decode_jpeg(image , channels = 3)\n",
        "    return image , label"
      ],
      "metadata": {
        "id": "jaBxiU2zpZBb"
      },
      "execution_count": 11,
      "outputs": []
    },
    {
      "cell_type": "code",
      "source": [
        "# Define IMAGE SIZE and BATCH SIZE\n",
        "IMG_SIZE = 96\n",
        "BATCH_SIZE = 32\n",
        "\n",
        "# Basic Transformation\n",
        "resize = tf.keras.Sequential([\n",
        "    tf.keras.layers.experimental.preprocessing.Resizing(IMG_SIZE, IMG_SIZE)\n",
        "])\n",
        "\n",
        "# Data Augmentation\n",
        "data_augmentation = tf.keras.Sequential([\n",
        "    tf.keras.layers.experimental.preprocessing.RandomFlip(\"horizontal\"),\n",
        "    tf.keras.layers.experimental.preprocessing.RandomRotation(0.1),\n",
        "    tf.keras.layers.experimental.preprocessing.RandomZoom(height_factor = (-0.1, -0.05))\n",
        "])"
      ],
      "metadata": {
        "id": "v3WASa1Bx2z9"
      },
      "execution_count": 12,
      "outputs": []
    },
    {
      "cell_type": "code",
      "source": [
        "# Function used to Create a Tensorflow Data Object\n",
        "AUTOTUNE = tf.data.experimental.AUTOTUNE\n",
        "def get_dataset(paths , labels , train = True):\n",
        "    image_paths = tf.convert_to_tensor(paths)\n",
        "    labels = tf.convert_to_tensor(labels)\n",
        "\n",
        "    image_dataset = tf.data.Dataset.from_tensor_slices(image_paths)\n",
        "    label_dataset = tf.data.Dataset.from_tensor_slices(labels)\n",
        "\n",
        "    dataset = tf.data.Dataset.zip((image_dataset , label_dataset))\n",
        "\n",
        "    dataset = dataset.map(lambda image , label : load(image , label))\n",
        "    dataset = dataset.map(lambda image, label: (resize(image), label) , num_parallel_calls=AUTOTUNE)\n",
        "    dataset = dataset.shuffle(1000)\n",
        "    dataset = dataset.batch(BATCH_SIZE)\n",
        "\n",
        "    if train:\n",
        "        dataset = dataset.map(lambda image, label: (data_augmentation(image), label) , num_parallel_calls=AUTOTUNE)\n",
        "\n",
        "    dataset = dataset.repeat()\n",
        "    return dataset"
      ],
      "metadata": {
        "id": "buzantmZx6oi"
      },
      "execution_count": 13,
      "outputs": []
    },
    {
      "cell_type": "code",
      "source": [
        "# Creating Train Dataset object and Verifying it\n",
        "%time train_dataset = get_dataset(train_paths , train_labels)\n",
        "\n",
        "image , label = next(iter(train_dataset))\n",
        "print(image.shape)\n",
        "print(label.shape)"
      ],
      "metadata": {
        "colab": {
          "base_uri": "https://localhost:8080/"
        },
        "id": "O5rP6TPNyCQ7",
        "outputId": "c37a0853-418e-46c5-b419-67df41a838ea"
      },
      "execution_count": 15,
      "outputs": [
        {
          "output_type": "stream",
          "name": "stdout",
          "text": [
            "CPU times: user 869 ms, sys: 8.23 ms, total: 878 ms\n",
            "Wall time: 932 ms\n",
            "(32, 96, 96, 3)\n",
            "(32, 7)\n"
          ]
        }
      ]
    },
    {
      "cell_type": "code",
      "source": [
        "# View a sample Training Image\n",
        "print(Le.inverse_transform(np.argmax(label , axis = 1))[0])\n",
        "plt.imshow((image[0].numpy()/255).reshape(96 , 96 , 3))"
      ],
      "metadata": {
        "colab": {
          "base_uri": "https://localhost:8080/",
          "height": 468
        },
        "id": "HdAyc3BPyQtz",
        "outputId": "1583db46-ee29-4d59-ff26-ae9fc56f49d3"
      },
      "execution_count": 18,
      "outputs": [
        {
          "output_type": "stream",
          "name": "stdout",
          "text": [
            "fear\n"
          ]
        },
        {
          "output_type": "execute_result",
          "data": {
            "text/plain": [
              "<matplotlib.image.AxesImage at 0x7a72fdb16aa0>"
            ]
          },
          "metadata": {},
          "execution_count": 18
        },
        {
          "output_type": "display_data",
          "data": {
            "text/plain": [
              "<Figure size 640x480 with 1 Axes>"
            ],
            "image/png": "[encoded data removed]"
          },
          "metadata": {}
        }
      ]
    },
    {
      "cell_type": "code",
      "source": [
        "%time val_dataset = get_dataset(val_paths , val_labels , train = False)\n",
        "\n",
        "image , label = next(iter(val_dataset))\n",
        "print(image.shape)\n",
        "print(label.shape)"
      ],
      "metadata": {
        "colab": {
          "base_uri": "https://localhost:8080/"
        },
        "id": "GyZeTgLxylZM",
        "outputId": "d8eac99d-e1e5-4184-a3ff-5eca11dfe0c8"
      },
      "execution_count": 19,
      "outputs": [
        {
          "output_type": "stream",
          "name": "stdout",
          "text": [
            "CPU times: user 38.8 ms, sys: 0 ns, total: 38.8 ms\n",
            "Wall time: 45.5 ms\n",
            "(32, 96, 96, 3)\n",
            "(32, 7)\n"
          ]
        }
      ]
    },
    {
      "cell_type": "code",
      "source": [
        "# View a sample Validation Image\n",
        "print(Le.inverse_transform(np.argmax(label , axis = 1))[0])\n",
        "plt.imshow((image[0].numpy()/255).reshape(96 , 96 , 3))"
      ],
      "metadata": {
        "colab": {
          "base_uri": "https://localhost:8080/",
          "height": 468
        },
        "id": "cBeaUmsryppB",
        "outputId": "2f8e0d9a-1dd0-40de-9625-49ef8bafc099"
      },
      "execution_count": 20,
      "outputs": [
        {
          "output_type": "stream",
          "name": "stdout",
          "text": [
            "angry\n"
          ]
        },
        {
          "output_type": "execute_result",
          "data": {
            "text/plain": [
              "<matplotlib.image.AxesImage at 0x7a72fd9d86a0>"
            ]
          },
          "metadata": {},
          "execution_count": 20
        },
        {
          "output_type": "display_data",
          "data": {
            "text/plain": [
              "<Figure size 640x480 with 1 Axes>"
            ],
            "image/png": "[encoded data removed]"
          },
          "metadata": {}
        }
      ]
    },
    {
      "cell_type": "markdown",
      "source": [
        "##BUILDING EFFECIENTNET MODEL"
      ],
      "metadata": {
        "id": "fwsGgjZbzEGe"
      }
    },
    {
      "cell_type": "code",
      "source": [
        "# Building EfficientNet model\n",
        "from tensorflow.keras.applications import EfficientNetB2\n",
        "\n",
        "backbone = EfficientNetB2(\n",
        "    input_shape=(96, 96, 3),\n",
        "    include_top=False\n",
        ")\n",
        "\n",
        "model = tf.keras.Sequential([\n",
        "    backbone,\n",
        "    tf.keras.layers.GlobalAveragePooling2D(),\n",
        "    tf.keras.layers.Dropout(0.3),\n",
        "    tf.keras.layers.Dense(128, activation='relu'),\n",
        "    tf.keras.layers.Dense(7, activation='softmax')\n",
        "])\n",
        "\n",
        "model.summary()"
      ],
      "metadata": {
        "colab": {
          "base_uri": "https://localhost:8080/"
        },
        "id": "FdgIo0IizIAJ",
        "outputId": "2d50c020-1031-404e-9293-8cd812ac4201"
      },
      "execution_count": 21,
      "outputs": [
        {
          "output_type": "stream",
          "name": "stdout",
          "text": [
            "Downloading data from https://storage.googleapis.com/keras-applications/efficientnetb2_notop.h5\n",
            "31790344/31790344 [==============================] - 0s 0us/step\n",
            "Model: \"sequential_2\"\n",
            "_________________________________________________________________\n",
            " Layer (type)                Output Shape              Param #   \n",
            "=================================================================\n",
            " efficientnetb2 (Functional  (None, 3, 3, 1408)        7768569   \n",
            " )                                                               \n",
            "                                                                 \n",
            " global_average_pooling2d (  (None, 1408)              0         \n",
            " GlobalAveragePooling2D)                                         \n",
            "                                                                 \n",
            " dropout (Dropout)           (None, 1408)              0         \n",
            "                                                                 \n",
            " dense (Dense)               (None, 128)               180352    \n",
            "                                                                 \n",
            " dense_1 (Dense)             (None, 7)                 903       \n",
            "                                                                 \n",
            "=================================================================\n",
            "Total params: 7949824 (30.33 MB)\n",
            "Trainable params: 7882249 (30.07 MB)\n",
            "Non-trainable params: 67575 (263.97 KB)\n",
            "_________________________________________________________________\n"
          ]
        }
      ]
    },
    {
      "cell_type": "code",
      "source": [
        "# Compiling your model by providing the Optimizer , Loss and Metrics\n",
        "model.compile(\n",
        "    optimizer=tf.keras.optimizers.Adam(learning_rate=0.001, beta_1=0.9, beta_2=0.999, epsilon=1e-07),\n",
        "    loss = 'categorical_crossentropy',\n",
        "    metrics=['accuracy' , tf.keras.metrics.Precision(name='precision'),tf.keras.metrics.Recall(name='recall')]\n",
        ")"
      ],
      "metadata": {
        "id": "O6xZlkaZzL-C"
      },
      "execution_count": 22,
      "outputs": []
    },
    {
      "cell_type": "code",
      "source": [
        "# Train the model\n",
        "history = model.fit(\n",
        "    train_dataset,\n",
        "    steps_per_epoch=len(train_paths)//BATCH_SIZE,\n",
        "    epochs=8,\n",
        "    validation_data=val_dataset,\n",
        "    validation_steps = len(val_paths)//BATCH_SIZE,\n",
        "    class_weight=class_weight\n",
        ")"
      ],
      "metadata": {
        "colab": {
          "base_uri": "https://localhost:8080/"
        },
        "id": "HmVueLOZzQPZ",
        "outputId": "1d4fa093-e66b-4f67-d5c3-da1f615656f4"
      },
      "execution_count": 23,
      "outputs": [
        {
          "output_type": "stream",
          "name": "stdout",
          "text": [
            "Epoch 1/8\n",
            "672/672 [==============================] - 206s 183ms/step - loss: 2.8108 - accuracy: 0.3959 - precision: 0.6689 - recall: 0.1865 - val_loss: 1.6558 - val_accuracy: 0.4196 - val_precision: 0.5775 - val_recall: 0.2584\n",
            "Epoch 2/8\n",
            "672/672 [==============================] - 93s 139ms/step - loss: 2.4150 - accuracy: 0.4881 - precision: 0.6883 - recall: 0.2819 - val_loss: 1.4959 - val_accuracy: 0.4538 - val_precision: 0.6608 - val_recall: 0.2832\n",
            "Epoch 3/8\n",
            "672/672 [==============================] - 90s 134ms/step - loss: 2.2371 - accuracy: 0.5181 - precision: 0.6960 - recall: 0.3252 - val_loss: 1.2666 - val_accuracy: 0.5212 - val_precision: 0.6969 - val_recall: 0.3468\n",
            "Epoch 4/8\n",
            "672/672 [==============================] - 94s 140ms/step - loss: 2.1244 - accuracy: 0.5430 - precision: 0.7102 - recall: 0.3541 - val_loss: 1.2204 - val_accuracy: 0.5371 - val_precision: 0.7035 - val_recall: 0.3627\n",
            "Epoch 5/8\n",
            "672/672 [==============================] - 89s 132ms/step - loss: 2.0419 - accuracy: 0.5585 - precision: 0.7132 - recall: 0.3807 - val_loss: 1.4465 - val_accuracy: 0.4833 - val_precision: 0.6414 - val_recall: 0.3359\n",
            "Epoch 6/8\n",
            "672/672 [==============================] - 94s 140ms/step - loss: 1.9635 - accuracy: 0.5744 - precision: 0.7283 - recall: 0.4016 - val_loss: 1.0758 - val_accuracy: 0.6000 - val_precision: 0.7379 - val_recall: 0.4583\n",
            "Epoch 7/8\n",
            "672/672 [==============================] - 116s 173ms/step - loss: 1.9199 - accuracy: 0.5771 - precision: 0.7248 - recall: 0.4177 - val_loss: 1.0984 - val_accuracy: 0.5826 - val_precision: 0.7000 - val_recall: 0.4619\n",
            "Epoch 8/8\n",
            "672/672 [==============================] - 94s 140ms/step - loss: 1.8724 - accuracy: 0.5904 - precision: 0.7236 - recall: 0.4376 - val_loss: 1.1084 - val_accuracy: 0.5900 - val_precision: 0.7152 - val_recall: 0.4607\n"
          ]
        }
      ]
    },
    {
      "cell_type": "code",
      "source": [
        "model.layers[0].trainable = False"
      ],
      "metadata": {
        "id": "fng8pf2oz3XX"
      },
      "execution_count": 24,
      "outputs": []
    },
    {
      "cell_type": "code",
      "source": [
        "# Defining our callbacks\n",
        "checkpoint = tf.keras.callbacks.ModelCheckpoint(\"best_weights.h5\",verbose=1,save_best_only=True,save_weights_only = True)\n",
        "early_stop = tf.keras.callbacks.EarlyStopping(patience=4)"
      ],
      "metadata": {
        "id": "5_7Wk1gLz4Mx"
      },
      "execution_count": 25,
      "outputs": []
    },
    {
      "cell_type": "code",
      "source": [
        "model.summary()"
      ],
      "metadata": {
        "colab": {
          "base_uri": "https://localhost:8080/"
        },
        "id": "mDl9NHy7z7p0",
        "outputId": "09a60fc8-2c04-430a-d74a-0b7284440d4b"
      },
      "execution_count": 26,
      "outputs": [
        {
          "output_type": "stream",
          "name": "stdout",
          "text": [
            "Model: \"sequential_2\"\n",
            "_________________________________________________________________\n",
            " Layer (type)                Output Shape              Param #   \n",
            "=================================================================\n",
            " efficientnetb2 (Functional  (None, 3, 3, 1408)        7768569   \n",
            " )                                                               \n",
            "                                                                 \n",
            " global_average_pooling2d (  (None, 1408)              0         \n",
            " GlobalAveragePooling2D)                                         \n",
            "                                                                 \n",
            " dropout (Dropout)           (None, 1408)              0         \n",
            "                                                                 \n",
            " dense (Dense)               (None, 128)               180352    \n",
            "                                                                 \n",
            " dense_1 (Dense)             (None, 7)                 903       \n",
            "                                                                 \n",
            "=================================================================\n",
            "Total params: 7949824 (30.33 MB)\n",
            "Trainable params: 181255 (708.03 KB)\n",
            "Non-trainable params: 7768569 (29.63 MB)\n",
            "_________________________________________________________________\n"
          ]
        }
      ]
    },
    {
      "cell_type": "code",
      "source": [
        "# Train the model\n",
        "history = model.fit(\n",
        "    train_dataset,\n",
        "    steps_per_epoch=len(train_paths)//BATCH_SIZE,\n",
        "    epochs=6,\n",
        "    callbacks=[checkpoint , early_stop],\n",
        "    validation_data=val_dataset,\n",
        "    validation_steps = len(val_paths)//BATCH_SIZE,\n",
        "    class_weight=class_weight\n",
        ")"
      ],
      "metadata": {
        "colab": {
          "base_uri": "https://localhost:8080/"
        },
        "id": "G6hzJb7R0Efg",
        "outputId": "fce88bce-f005-4b6a-ebb9-a6cea0626019"
      },
      "execution_count": 28,
      "outputs": [
        {
          "output_type": "stream",
          "name": "stdout",
          "text": [
            "Epoch 1/6\n",
            "672/672 [==============================] - ETA: 0s - loss: 1.8417 - accuracy: 0.5934 - precision: 0.7289 - recall: 0.4351\n",
            "Epoch 1: val_loss improved from inf to 1.16667, saving model to best_weights.h5\n",
            "672/672 [==============================] - 93s 137ms/step - loss: 1.8417 - accuracy: 0.5934 - precision: 0.7289 - recall: 0.4351 - val_loss: 1.1667 - val_accuracy: 0.5681 - val_precision: 0.6848 - val_recall: 0.4450\n",
            "Epoch 2/6\n",
            "672/672 [==============================] - ETA: 0s - loss: 1.7818 - accuracy: 0.6023 - precision: 0.7298 - recall: 0.4516\n",
            "Epoch 2: val_loss improved from 1.16667 to 1.11336, saving model to best_weights.h5\n",
            "672/672 [==============================] - 93s 138ms/step - loss: 1.7818 - accuracy: 0.6023 - precision: 0.7298 - recall: 0.4516 - val_loss: 1.1134 - val_accuracy: 0.5734 - val_precision: 0.7098 - val_recall: 0.4227\n",
            "Epoch 3/6\n",
            "672/672 [==============================] - ETA: 0s - loss: 1.7501 - accuracy: 0.6164 - precision: 0.7484 - recall: 0.4673\n",
            "Epoch 3: val_loss improved from 1.11336 to 1.09184, saving model to best_weights.h5\n",
            "672/672 [==============================] - 91s 135ms/step - loss: 1.7501 - accuracy: 0.6164 - precision: 0.7484 - recall: 0.4673 - val_loss: 1.0918 - val_accuracy: 0.5963 - val_precision: 0.7117 - val_recall: 0.4842\n",
            "Epoch 4/6\n",
            "672/672 [==============================] - ETA: 0s - loss: 1.6919 - accuracy: 0.6227 - precision: 0.7450 - recall: 0.4860\n",
            "Epoch 4: val_loss did not improve from 1.09184\n",
            "672/672 [==============================] - 91s 135ms/step - loss: 1.6919 - accuracy: 0.6227 - precision: 0.7450 - recall: 0.4860 - val_loss: 1.0954 - val_accuracy: 0.6006 - val_precision: 0.7053 - val_recall: 0.4912\n",
            "Epoch 5/6\n",
            "672/672 [==============================] - ETA: 0s - loss: 1.6445 - accuracy: 0.6295 - precision: 0.7504 - recall: 0.4886\n",
            "Epoch 5: val_loss improved from 1.09184 to 1.04369, saving model to best_weights.h5\n",
            "672/672 [==============================] - 95s 142ms/step - loss: 1.6445 - accuracy: 0.6295 - precision: 0.7504 - recall: 0.4886 - val_loss: 1.0437 - val_accuracy: 0.6144 - val_precision: 0.7065 - val_recall: 0.5218\n",
            "Epoch 6/6\n",
            "672/672 [==============================] - ETA: 0s - loss: 1.6210 - accuracy: 0.6377 - precision: 0.7540 - recall: 0.5081\n",
            "Epoch 6: val_loss did not improve from 1.04369\n",
            "672/672 [==============================] - 94s 140ms/step - loss: 1.6210 - accuracy: 0.6377 - precision: 0.7540 - recall: 0.5081 - val_loss: 1.0589 - val_accuracy: 0.5989 - val_precision: 0.7476 - val_recall: 0.4487\n"
          ]
        }
      ]
    },
    {
      "cell_type": "markdown",
      "source": [
        "##TESTING PHASE"
      ],
      "metadata": {
        "id": "Gqy0IClv19Sl"
      }
    },
    {
      "cell_type": "code",
      "source": [
        "from tensorflow.keras.applications import EfficientNetB2\n",
        "\n",
        "backbone = EfficientNetB2(\n",
        "    input_shape=(96, 96, 3),\n",
        "    include_top=False\n",
        ")\n",
        "\n",
        "model = tf.keras.Sequential([\n",
        "    backbone,\n",
        "    tf.keras.layers.GlobalAveragePooling2D(),\n",
        "    tf.keras.layers.Dropout(0.3),\n",
        "    tf.keras.layers.Dense(128, activation='relu'),\n",
        "    tf.keras.layers.Dense(7, activation='softmax')\n",
        "])\n",
        "\n",
        "model.compile(\n",
        "    optimizer=tf.keras.optimizers.Adam(learning_rate=0.001, beta_1=0.9, beta_2=0.999, epsilon=1e-07),\n",
        "    loss = 'categorical_crossentropy',\n",
        "    metrics=['accuracy' , tf.keras.metrics.Precision(name='precision'),tf.keras.metrics.Recall(name='recall')]\n",
        ")"
      ],
      "metadata": {
        "id": "H_B-J2hb0IZ3"
      },
      "execution_count": 30,
      "outputs": []
    },
    {
      "cell_type": "code",
      "source": [
        "model.load_weights(\"best_weights.h5\")"
      ],
      "metadata": {
        "id": "oQ_LfIE82DQ9"
      },
      "execution_count": 31,
      "outputs": []
    },
    {
      "cell_type": "code",
      "source": [
        "# Create a Dataset Object for 'Testing' Set just the way we did for Training and Validation\n",
        "test_image_paths = list(test_path.glob(\"*/*\"))\n",
        "test_image_paths = list(map(lambda x : str(x) , test_image_paths))\n",
        "test_labels = list(map(lambda x : get_label(x) , test_image_paths))\n",
        "\n",
        "test_labels = Le.transform(test_labels)\n",
        "test_labels = tf.keras.utils.to_categorical(test_labels)\n",
        "\n",
        "test_image_paths = tf.convert_to_tensor(test_image_paths)\n",
        "test_labels = tf.convert_to_tensor(test_labels)\n",
        "\n",
        "def decode_image(image , label):\n",
        "    image = tf.io.read_file(image)\n",
        "    image = tf.io.decode_jpeg(image , channels = 3)\n",
        "    image = tf.image.resize(image , [96 , 96] , method=\"bilinear\")\n",
        "    return image , label\n",
        "\n",
        "test_dataset = (\n",
        "     tf.data.Dataset\n",
        "    .from_tensor_slices((test_image_paths, test_labels))\n",
        "    .map(decode_image)\n",
        "    .batch(BATCH_SIZE)\n",
        ")"
      ],
      "metadata": {
        "id": "tMaH_WbL2Gkc"
      },
      "execution_count": 32,
      "outputs": []
    },
    {
      "cell_type": "code",
      "source": [
        "# Verify Test Dataset Object\n",
        "image , label = next(iter(test_dataset))\n",
        "print(image.shape)\n",
        "print(label.shape)"
      ],
      "metadata": {
        "colab": {
          "base_uri": "https://localhost:8080/"
        },
        "id": "jWkZ0uRk2Kav",
        "outputId": "ed58d8b2-f462-4e93-db1f-5bacc11f19b6"
      },
      "execution_count": 33,
      "outputs": [
        {
          "output_type": "stream",
          "name": "stdout",
          "text": [
            "(32, 96, 96, 3)\n",
            "(32, 7)\n"
          ]
        }
      ]
    },
    {
      "cell_type": "code",
      "source": [
        "# View a sample Validation Image\n",
        "print(Le.inverse_transform(np.argmax(label , axis = 1))[0])\n",
        "plt.imshow((image[0].numpy()/255).reshape(96 , 96 , 3))"
      ],
      "metadata": {
        "colab": {
          "base_uri": "https://localhost:8080/",
          "height": 468
        },
        "id": "YoBOLRS-2NZ7",
        "outputId": "523a689b-57fa-45f5-9007-0217674439fe"
      },
      "execution_count": 34,
      "outputs": [
        {
          "output_type": "stream",
          "name": "stdout",
          "text": [
            "angry\n"
          ]
        },
        {
          "output_type": "execute_result",
          "data": {
            "text/plain": [
              "<matplotlib.image.AxesImage at 0x7a727609f1c0>"
            ]
          },
          "metadata": {},
          "execution_count": 34
        },
        {
          "output_type": "display_data",
          "data": {
            "text/plain": [
              "<Figure size 640x480 with 1 Axes>"
            ],
            "image/png": "[encoded data removed]"
          },
          "metadata": {}
        }
      ]
    },
    {
      "cell_type": "code",
      "source": [
        "# Evaluating the loaded model\n",
        "loss, acc, prec, rec = model.evaluate(test_dataset)\n",
        "\n",
        "print(\" Testing Acc : \" , acc)\n",
        "print(\" Testing Precision \" , prec)\n",
        "print(\" Testing Recall \" , rec)"
      ],
      "metadata": {
        "colab": {
          "base_uri": "https://localhost:8080/"
        },
        "id": "JbjfeDF62QZN",
        "outputId": "c89f2745-ba27-48d8-feaa-ef2ca2f8c8b9"
      },
      "execution_count": 35,
      "outputs": [
        {
          "output_type": "stream",
          "name": "stdout",
          "text": [
            "225/225 [==============================] - 12s 34ms/step - loss: 1.0723 - accuracy: 0.6069 - precision: 0.6945 - recall: 0.5153\n",
            " Testing Acc :  0.606854259967804\n",
            " Testing Precision  0.6945174336433411\n",
            " Testing Recall  0.515324592590332\n"
          ]
        }
      ]
    }
  ]
}